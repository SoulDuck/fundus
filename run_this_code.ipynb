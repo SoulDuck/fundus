{
 "cells": [
  {
   "cell_type": "code",
   "execution_count": null,
   "metadata": {
    "collapsed": true
   },
   "outputs": [],
   "source": [
    "!python fundus_processing.py \n",
    "!python fundus_processing.py \n",
    "!python fundus_processing.py \n",
    "!python fundus_processing.py \n",
    "!python fundus_processing.py \n",
    "!python fundus_processing.py \n",
    "!python fundus_processing.py \n",
    "!python fundus_processing.py \n",
    "!python fundus_processing.py\n",
    "!python fundus_processing.py \n",
    "!python fundus_processing.py"
   ]
  },
  {
   "cell_type": "code",
   "execution_count": 2,
   "metadata": {
    "collapsed": false
   },
   "outputs": [
    {
     "name": "stdout",
     "output_type": "stream",
     "text": [
      "paths is already made. this function will be closed\r\npaths is already made. this function will be closed\r\npaths is already made. this function will be closed\r\npaths is already made. this function will be closed\r\nsample type: cataract\r\ntotal paths: 4 train: 2 test 2\r\n##########################################################\r\nall train paths : 2\r\nall_test_paths : 2\r\n\r\nsample type: retina\r\ntotal paths: 4 train: 2 test 2\r\n##########################################################\r\nall train paths : 2\r\nall_test_paths : 2\r\n\r\nsample type: glaucoma\r\ntotal paths: 4 train: 2 test 2\r\n##########################################################\r\nall train paths : 2\r\nall_test_paths : 2\r\n\r\nsample type: normal\r\ntotal paths: 4 train: 2 test 2\r\n##########################################################\r\nall train paths : 2\r\nall_test_paths : 2\r\n\r\nImage Loading ....\r\ndata.py:81: FutureWarning: comparison to `None` will result in an elementwise object comparison in the future.\r\n  if img ==None:\r\n\r progress 0/2\r progress 1/2(2, 350, 350, 4)\r\n"
     ]
    },
    {
     "name": "stdout",
     "output_type": "stream",
     "text": [
      "\r progress 0/2\r progress 1/2(2, 350, 350, 4)\r\n"
     ]
    },
    {
     "name": "stdout",
     "output_type": "stream",
     "text": [
      "\r progress 0/2\r progress 1/2(2, 350, 350, 4)\r\n"
     ]
    },
    {
     "name": "stdout",
     "output_type": "stream",
     "text": [
      "\r progress 0/2\r progress 1/2(2, 350, 350, 4)\r\n"
     ]
    },
    {
     "name": "stdout",
     "output_type": "stream",
     "text": [
      "\r progress 0/2\r progress 1/2(2, 350, 350, 4)\r\n"
     ]
    },
    {
     "name": "stdout",
     "output_type": "stream",
     "text": [
      "\r progress 0/2\r progress 1/2(2, 350, 350, 4)\r\n"
     ]
    },
    {
     "name": "stdout",
     "output_type": "stream",
     "text": [
      "\r progress 0/2\r progress 1/2(2, 350, 350, 4)\r\n"
     ]
    },
    {
     "name": "stdout",
     "output_type": "stream",
     "text": [
      "\r progress 0/2\r progress 1/2(2, 350, 350, 4)\r\n"
     ]
    },
    {
     "name": "stdout",
     "output_type": "stream",
     "text": [
      "\r\n# cataract : 4\r\n# glaucoma : 4\r\n# retina : 4\r\n# normal : 4\r\n# cataract train , : 2 # cataract test : 2\r\n# glaucoma train , : 2 # glaucoma test : 2\r\n# retina train , : 2 # retina test : 2\r\n# normal train , : 2 # normal test : 2\r\n['../fundus_data/cropped_macula/cataract/916285_20130426_L.png', '../fundus_data/cropped_macula/cataract/955512_20160808_R.png']\r\nshape of cata_train_imgs (2, 350, 350, 4)\r\n"
     ]
    },
    {
     "name": "stdout",
     "output_type": "stream",
     "text": [
      "<matplotlib.figure.Figure at 0x1074e1c10>\r\nthe number of batch 8\r\nthe shape of batch xs  (8, 350, 350, 4)\r\nthe shape of batch ys  (8,)\r\n"
     ]
    },
    {
     "name": "stdout",
     "output_type": "stream",
     "text": [
      "flip lr  False\r\nflip ud  True\r\n"
     ]
    },
    {
     "name": "stdout",
     "output_type": "stream",
     "text": [
      "flip lr  True\r\nflip ud  True\r\nflip lr  False\r\nflip ud  False\r\nflip lr  False\r\nflip ud  True\r\nflip lr  True\r\nflip ud  False\r\nflip lr  True\r\nflip ud  True\r\nflip lr  True\r\nflip ud  False\r\nflip lr  False\r\nflip ud  False\r\nTraceback (most recent call last):\r\n  File \"data.py\", line 338, in <module>\r\n    batch_xs = map(aug.random_rotate, batch_xs)\r\n  File \"/Users/seongjungkim/PycharmProjects/fundus/aug.py\", line 23, in random_rotate\r\n    img = image.rotate(ind)\r\nAttributeError: 'numpy.ndarray' object has no attribute 'rotate'\r\n"
     ]
    }
   ],
   "source": [
    "!python data.py"
   ]
  },
  {
   "cell_type": "code",
   "execution_count": null,
   "metadata": {},
   "outputs": [],
   "source": [
    ""
   ]
  }
 ],
 "metadata": {
  "kernelspec": {
   "display_name": "Python 2",
   "language": "python",
   "name": "python2"
  },
  "language_info": {
   "codemirror_mode": {
    "name": "ipython",
    "version": 2.0
   },
   "file_extension": ".py",
   "mimetype": "text/x-python",
   "name": "python",
   "nbconvert_exporter": "python",
   "pygments_lexer": "ipython2",
   "version": "2.7.6"
  }
 },
 "nbformat": 4,
 "nbformat_minor": 0
}